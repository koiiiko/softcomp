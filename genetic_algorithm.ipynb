{
 "cells": [
  {
   "cell_type": "code",
   "execution_count": null,
   "id": "94b729ac",
   "metadata": {},
   "outputs": [],
   "source": [
    "from ga import *\n",
    "\n",
    "road_points = {\n",
    "    0: (-1.064124, 110.685258),   \n",
    "    1: (-1.919500, 110.671412),  \n",
    "    2: (-0.625036, 110.427354)    \n",
    "}\n",
    "# problem = ClusterBasedDroneRouting( \n",
    "#     csv_file='forest_fire_clustered.csv',\n",
    "#     road_points=road_points,\n",
    "#     n_drones=2\n",
    "# )  \n",
    "\n",
    "# all_routes = problem.optimize_all_clusters()\n",
    "\n",
    "# problem.print_cluster_routes(all_routes)\n",
    "# problem.visualize_cluster_routes(all_routes)\n",
    "\n",
    "\n",
    "# Create routing problem\n",
    "routing = ClusterBasedDroneRouting(\n",
    "    csv_file=\"forest_fire_clustered.csv\",\n",
    "    road_points=road_points,\n",
    "    n_drones={0: 2, 1: 2, 2: 2}   # drones per cluster (can mix)\n",
    ")\n",
    "\n",
    "# Run optimization (Genetic Algorithm is the only method now)\n",
    "routes = routing.optimize_all_clusters()\n",
    "\n",
    "# Show results\n",
    "routing.print_cluster_routes(routes)\n",
    "routing.visualize_cluster_routes(routes)"
   ]
  }
 ],
 "metadata": {
  "kernelspec": {
   "display_name": "venv",
   "language": "python",
   "name": "python3"
  },
  "language_info": {
   "name": "python",
   "version": "3.13.7"
  }
 },
 "nbformat": 4,
 "nbformat_minor": 5
}
