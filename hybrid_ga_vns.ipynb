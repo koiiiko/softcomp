{
 "cells": [
  {
   "cell_type": "code",
   "execution_count": null,
   "id": "87620f61",
   "metadata": {},
   "outputs": [],
   "source": [
    "from hybrid_ga_vns import *\n",
    "\n",
    "road_points = {\n",
    "    0: (-1.064124, 110.685258),   \n",
    "    1: (-1.919500, 110.671412),  \n",
    "    2: (-0.625036, 110.427354)    \n",
    "}\n",
    "\n",
    "# Create routing problem\n",
    "routing = ClusterBasedDroneRoutingVNS(\n",
    "    csv_file=\"forest_fire_clustered.csv\",\n",
    "    road_points=road_points,\n",
    "    n_drones={0: 2, 1: 2, 2: 2}\n",
    ")\n",
    "\n",
    "# Optimize all clusters (GA + VNS hybrid)\n",
    "routes = routing.optimize_all_clusters()\n",
    "\n",
    "# Show results\n",
    "routing.print_cluster_routes(routes)\n",
    "routing.visualize_cluster_routes(routes)\n"
   ]
  }
 ],
 "metadata": {
  "language_info": {
   "name": "python"
  }
 },
 "nbformat": 4,
 "nbformat_minor": 5
}
