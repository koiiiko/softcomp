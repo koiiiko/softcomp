{
 "cells": [
  {
   "cell_type": "code",
   "execution_count": 1,
   "id": "6db04b63",
   "metadata": {},
   "outputs": [
    {
     "name": "stdout",
     "output_type": "stream",
     "text": [
      "\n",
      "=== DRONE ROUTES (Tabu Search) ===\n",
      "Cluster 0, Drone 1, Route: [0, 3, 4, 2, 25, 24, 26, 27, 28, 29, 30, 0]\n",
      "Cluster 0, Drone 2, Route: [0, 1, 0]\n",
      "Cluster 1, Drone 1, Route: [1, 15, 12, 59, 18, 20, 19, 60, 47, 62, 63, 61, 23, 22, 21, 53, 52, 48, 51, 50, 71, 72, 1]\n",
      "Cluster 1, Drone 2, Route: [1, 49, 10, 9, 7, 55, 54, 6, 8, 56, 5, 11, 13, 14, 16, 17, 57, 58, 1]\n",
      "Cluster 2, Drone 1, Route: [2, 31, 0, 36, 37, 38, 2]\n",
      "Cluster 2, Drone 2, Route: [2, 66, 64, 65, 46, 67, 33, 34, 32, 42, 43, 41, 44, 39, 40, 35, 45, 68, 69, 70, 2]\n",
      "\n",
      "Cluster 0 (Drones: 2)\n",
      "  Drone 1 Route: R0 -> H3 -> H4 -> H2 -> H25 -> H24 -> H26 -> H27 -> H28 -> H29 -> H30 -> R0\n",
      "    Total distance: 141.25 km | Est. time: 78.47 min\n",
      "  Drone 2 Route: R0 -> H1 -> R0\n",
      "    Total distance: 109.19 km | Est. time: 60.66 min\n",
      "\n",
      "Cluster 1 (Drones: 2)\n",
      "  Drone 1 Route: R1 -> H15 -> H12 -> H59 -> H18 -> H20 -> H19 -> H60 -> H47 -> H62 -> H63 -> H61 -> H23 -> H22 -> H21 -> H53 -> H52 -> H48 -> H51 -> H50 -> H71 -> H72 -> R1\n",
      "    Total distance: 301.29 km | Est. time: 167.38 min\n",
      "  Drone 2 Route: R1 -> H49 -> H10 -> H9 -> H7 -> H55 -> H54 -> H6 -> H8 -> H56 -> H5 -> H11 -> H13 -> H14 -> H16 -> H17 -> H57 -> H58 -> R1\n",
      "    Total distance: 135.20 km | Est. time: 75.11 min\n",
      "\n",
      "Cluster 2 (Drones: 2)\n",
      "  Drone 1 Route: R2 -> H31 -> H0 -> H36 -> H37 -> H38 -> R2\n",
      "    Total distance: 117.41 km | Est. time: 65.23 min\n",
      "  Drone 2 Route: R2 -> H66 -> H64 -> H65 -> H46 -> H67 -> H33 -> H34 -> H32 -> H42 -> H43 -> H41 -> H44 -> H39 -> H40 -> H35 -> H45 -> H68 -> H69 -> H70 -> R2\n",
      "    Total distance: 139.85 km | Est. time: 77.69 min\n",
      "✅ Variabel peta terdeteksi: map_fa9af2ae32eb695da42b962093d5f0b8\n",
      "✅ Rute drone (Tabu Search Only) berhasil ditambahkan ke peta: forest_fire_clusters_with_tabu_routes.html\n"
     ]
    }
   ],
   "source": [
    "from ts import *\n",
    "\n",
    "road_points = {\n",
    "    0: (-1.064124, 110.685258),   \n",
    "    1: (-1.919500, 110.671412),  \n",
    "    2: (-0.625036, 110.427354)    \n",
    "}\n",
    "\n",
    "routing_ts = ClusterBasedDroneRoutingTS(\n",
    "    csv_file=\"ketapang-12-08-24_merged_clustered_3.csv\",\n",
    "    road_points=road_points,\n",
    "    n_drones={0: 2, 1: 2, 2: 2}\n",
    ")\n",
    "\n",
    "routes = routing_ts.optimize_all_clusters()\n",
    "\n",
    "routing_ts.print_cluster_routes(routes)\n",
    "routing_ts.visualize_cluster_routes(routes)\n"
   ]
  },
  {
   "cell_type": "markdown",
   "id": "2c56e57d",
   "metadata": {},
   "source": [
    "Tabu Search Bayesian Optimization"
   ]
  },
  {
   "cell_type": "code",
   "execution_count": 2,
   "id": "a110293f",
   "metadata": {},
   "outputs": [],
   "source": [
    "def objective(trial):\n",
    "    tabu_tenure = trial.suggest_int(\"tabu_tenure\", 5, 30)\n",
    "    max_iter = trial.suggest_int(\"max_iter\", 100, 500)\n",
    "    neighborhood_size = trial.suggest_int(\"neighborhood_size\", 1, 200)\n",
    "\n",
    "    routing_ts = ClusterBasedDroneRoutingTS(\n",
    "        csv_file=\"ketapang-12-08-24_merged_clustered_3.csv\",\n",
    "        road_points=road_points,\n",
    "        n_drones={0: 2, 1: 2, 2: 2}\n",
    "    )\n",
    "\n",
    "    routes = routing_ts.optimize_all_clusters(\n",
    "        tabu_tenure=tabu_tenure,\n",
    "        max_iter=max_iter,\n",
    "        neighborhood_size=neighborhood_size\n",
    "    )\n",
    "\n",
    "    # Hitung total distance dari semua cluster (km)\n",
    "    total_distance = 0\n",
    "    for cid, cluster_routes in routes.items():\n",
    "        for route, hotspot_indices in cluster_routes:\n",
    "            locs = [routing_ts.road_points[cid]] + [routing_ts.coordinates[i] for i in hotspot_indices]\n",
    "            dist_matrix = routing_ts.build_dist_matrix(locs)\n",
    "            for i in range(len(route)-1):\n",
    "                total_distance += dist_matrix[route[i]][route[i+1]]\n",
    "\n",
    "    return total_distance\n"
   ]
  },
  {
   "cell_type": "code",
   "execution_count": 3,
   "id": "016bcbaf",
   "metadata": {},
   "outputs": [
    {
     "name": "stderr",
     "output_type": "stream",
     "text": [
      "[I 2025-10-10 20:29:33,046] A new study created in memory with name: no-name-47663b63-bc0a-475d-aa27-0fa9608cb954\n",
      "[I 2025-10-10 20:29:33,967] Trial 0 finished with value: 965.8779015219114 and parameters: {'tabu_tenure': 20, 'max_iter': 100, 'neighborhood_size': 106}. Best is trial 0 with value: 965.8779015219114.\n",
      "[I 2025-10-10 20:29:34,339] Trial 1 finished with value: 945.6409834560618 and parameters: {'tabu_tenure': 9, 'max_iter': 137, 'neighborhood_size': 18}. Best is trial 1 with value: 945.6409834560618.\n",
      "[I 2025-10-10 20:29:35,316] Trial 2 finished with value: 944.1857200154361 and parameters: {'tabu_tenure': 26, 'max_iter': 111, 'neighborhood_size': 110}. Best is trial 2 with value: 944.1857200154361.\n",
      "[I 2025-10-10 20:29:36,838] Trial 3 finished with value: 944.1857200154361 and parameters: {'tabu_tenure': 18, 'max_iter': 137, 'neighborhood_size': 189}. Best is trial 2 with value: 944.1857200154361.\n",
      "[I 2025-10-10 20:29:38,157] Trial 4 finished with value: 944.1857200154361 and parameters: {'tabu_tenure': 25, 'max_iter': 360, 'neighborhood_size': 41}. Best is trial 2 with value: 944.1857200154361.\n",
      "[I 2025-10-10 20:29:39,477] Trial 5 finished with value: 957.2457690103797 and parameters: {'tabu_tenure': 16, 'max_iter': 118, 'neighborhood_size': 165}. Best is trial 2 with value: 944.1857200154361.\n",
      "[I 2025-10-10 20:29:44,059] Trial 6 finished with value: 950.2596698785287 and parameters: {'tabu_tenure': 9, 'max_iter': 457, 'neighborhood_size': 152}. Best is trial 2 with value: 944.1857200154361.\n",
      "[I 2025-10-10 20:29:45,766] Trial 7 finished with value: 944.1857200154361 and parameters: {'tabu_tenure': 22, 'max_iter': 299, 'neighborhood_size': 66}. Best is trial 2 with value: 944.1857200154361.\n",
      "[I 2025-10-10 20:29:47,578] Trial 8 finished with value: 945.7004526616222 and parameters: {'tabu_tenure': 11, 'max_iter': 224, 'neighborhood_size': 111}. Best is trial 2 with value: 944.1857200154361.\n",
      "[I 2025-10-10 20:29:49,142] Trial 9 finished with value: 965.5270319626917 and parameters: {'tabu_tenure': 11, 'max_iter': 194, 'neighborhood_size': 104}. Best is trial 2 with value: 944.1857200154361.\n"
     ]
    },
    {
     "name": "stdout",
     "output_type": "stream",
     "text": [
      "Best params: {'tabu_tenure': 26, 'max_iter': 111, 'neighborhood_size': 110}\n",
      "Best total distance: 944.1857200154361\n"
     ]
    }
   ],
   "source": [
    "import optuna\n",
    "study = optuna.create_study(direction=\"minimize\")\n",
    "study.optimize(objective, n_trials=10)\n",
    "\n",
    "print(\"Best params:\", study.best_params)\n",
    "print(\"Best total distance:\", study.best_value)"
   ]
  },
  {
   "cell_type": "code",
   "execution_count": 4,
   "id": "85c5a6a3",
   "metadata": {},
   "outputs": [
    {
     "name": "stdout",
     "output_type": "stream",
     "text": [
      "Running TS with params: {'tabu_tenure': 26, 'max_iter': 111, 'neighborhood_size': 110}\n",
      "\n",
      "=== DRONE ROUTES (Tabu Search) ===\n",
      "Cluster 0, Drone 1, Route: [0, 3, 4, 2, 25, 24, 26, 27, 28, 29, 30, 0]\n",
      "Cluster 0, Drone 2, Route: [0, 1, 0]\n",
      "Cluster 1, Drone 1, Route: [1, 15, 12, 59, 18, 20, 19, 60, 47, 62, 63, 61, 23, 22, 21, 53, 52, 48, 51, 50, 71, 72, 1]\n",
      "Cluster 1, Drone 2, Route: [1, 49, 10, 9, 7, 55, 54, 6, 8, 56, 5, 11, 13, 14, 16, 17, 57, 58, 1]\n",
      "Cluster 2, Drone 1, Route: [2, 31, 0, 36, 37, 38, 2]\n",
      "Cluster 2, Drone 2, Route: [2, 66, 64, 65, 46, 67, 33, 34, 32, 42, 43, 41, 44, 39, 40, 35, 45, 68, 69, 70, 2]\n",
      "\n",
      "Cluster 0 (Drones: 2)\n",
      "  Drone 1 Route: R0 -> H3 -> H4 -> H2 -> H25 -> H24 -> H26 -> H27 -> H28 -> H29 -> H30 -> R0\n",
      "    Total distance: 141.25 km | Est. time: 78.47 min\n",
      "  Drone 2 Route: R0 -> H1 -> R0\n",
      "    Total distance: 109.19 km | Est. time: 60.66 min\n",
      "\n",
      "Cluster 1 (Drones: 2)\n",
      "  Drone 1 Route: R1 -> H15 -> H12 -> H59 -> H18 -> H20 -> H19 -> H60 -> H47 -> H62 -> H63 -> H61 -> H23 -> H22 -> H21 -> H53 -> H52 -> H48 -> H51 -> H50 -> H71 -> H72 -> R1\n",
      "    Total distance: 301.29 km | Est. time: 167.38 min\n",
      "  Drone 2 Route: R1 -> H49 -> H10 -> H9 -> H7 -> H55 -> H54 -> H6 -> H8 -> H56 -> H5 -> H11 -> H13 -> H14 -> H16 -> H17 -> H57 -> H58 -> R1\n",
      "    Total distance: 135.20 km | Est. time: 75.11 min\n",
      "\n",
      "Cluster 2 (Drones: 2)\n",
      "  Drone 1 Route: R2 -> H31 -> H0 -> H36 -> H37 -> H38 -> R2\n",
      "    Total distance: 117.41 km | Est. time: 65.23 min\n",
      "  Drone 2 Route: R2 -> H66 -> H64 -> H65 -> H46 -> H67 -> H33 -> H34 -> H32 -> H42 -> H43 -> H41 -> H44 -> H39 -> H40 -> H35 -> H45 -> H68 -> H69 -> H70 -> R2\n",
      "    Total distance: 139.85 km | Est. time: 77.69 min\n",
      "✅ Variabel peta terdeteksi: map_fa9af2ae32eb695da42b962093d5f0b8\n",
      "✅ Rute drone (Tabu Search Only) berhasil ditambahkan ke peta: forest_fire_clusters_with_tabu_routes.html\n"
     ]
    }
   ],
   "source": [
    "# best_params = {'tabu_tenure': 16, 'max_iter': 131, 'neighborhood_size': 70}\n",
    "from ts import ClusterBasedDroneRoutingTS\n",
    "\n",
    "road_points = {\n",
    "    0: (-1.064124, 110.685258),   \n",
    "    1: (-1.919500, 110.671412),  \n",
    "    2: (-0.625036, 110.427354)    \n",
    "}\n",
    "\n",
    "# buat routing problem\n",
    "routing_ts_opt = ClusterBasedDroneRoutingTS(\n",
    "    csv_file=\"ketapang-12-08-24_merged_clustered_3.csv\",\n",
    "    road_points=road_points,\n",
    "    n_drones={0: 2, 1: 2, 2: 2}\n",
    ")\n",
    "\n",
    "print(\"Running TS with params:\", study.best_params)\n",
    "\n",
    "routes_opt = routing_ts_opt.optimize_all_clusters(\n",
    "    tabu_tenure=study.best_params[\"tabu_tenure\"],\n",
    "    max_iter=study.best_params[\"max_iter\"],\n",
    "    neighborhood_size=study.best_params[\"neighborhood_size\"]\n",
    ")\n",
    "\n",
    "# tampilkan hasil\n",
    "routing_ts.print_cluster_routes(routes_opt)\n",
    "routing_ts.visualize_cluster_routes(routes_opt)\n"
   ]
  }
 ],
 "metadata": {
  "kernelspec": {
   "display_name": "venv",
   "language": "python",
   "name": "python3"
  },
  "language_info": {
   "codemirror_mode": {
    "name": "ipython",
    "version": 3
   },
   "file_extension": ".py",
   "mimetype": "text/x-python",
   "name": "python",
   "nbconvert_exporter": "python",
   "pygments_lexer": "ipython3",
   "version": "3.12.1"
  }
 },
 "nbformat": 4,
 "nbformat_minor": 5
}
