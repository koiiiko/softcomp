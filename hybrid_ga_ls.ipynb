{
 "cells": [
  {
   "cell_type": "code",
   "execution_count": null,
   "id": "5f9530a4",
   "metadata": {},
   "outputs": [],
   "source": [
    "from ga_ls import *\n",
    "\n",
    "road_points = {\n",
    "    0: (-1.064124, 110.685258),   \n",
    "    1: (-1.919500, 110.671412),  \n",
    "    2: (-0.625036, 110.427354)\n",
    "}\n",
    "\n",
    "routing = ClusterBasedDroneRouting_Hybrid(\n",
    "    csv_file=\"ketapang-12-08-24_merged_clustered_3.csv\",\n",
    "    road_points=road_points,\n",
    "    n_drones={0: 2, 1: 2, 2: 2}\n",
    ")\n",
    "\n",
    "routes = routing.optimize_all_clusters(routing)\n",
    "routing.print_cluster_routes(routes)\n",
    "routing.visualize_cluster_routes(routes)"
   ]
  },
  {
   "cell_type": "markdown",
   "id": "2a10b410",
   "metadata": {},
   "source": [
    "Hyperparameter Tuning"
   ]
  },
  {
   "cell_type": "code",
   "execution_count": null,
   "id": "ff1cea53",
   "metadata": {},
   "outputs": [],
   "source": [
    "import optuna\n",
    "from ga_ls import *\n",
    "\n",
    "road_points = {\n",
    "    0: (-1.064124, 110.685258),   \n",
    "    1: (-1.919500, 110.671412),  \n",
    "    2: (-0.625036, 110.427354)\n",
    "}\n",
    "\n",
    "def objective(trial):\n",
    "    #Define hyperparameters for Bayesian optimization\n",
    "    population_size = trial.suggest_int('population_size', 30, 100, step=10)\n",
    "    generations = trial.suggest_int('generations', 100, 300, step=50)\n",
    "    mutation_rate = trial.suggest_float('mutation_rate', 0.05, 0.3)\n",
    "    local_search_freq = trial.suggest_int('local_search_freq', 5, 25, step=5)\n",
    "    local_search_intensity = trial.suggest_int('local_search_intensity', 20, 100, step=10)\n",
    "\n",
    "    #Initialize the routing class\n",
    "    routing = ClusterBasedDroneRouting_Hybrid(\n",
    "        csv_file=\"ketapang-12-08-24_merged_clustered_3.csv\",\n",
    "        road_points=road_points,\n",
    "        n_drones={0: 2, 1: 2, 2: 2}\n",
    "    )\n",
    "\n",
    "    #Optimize using the trial hyperparameters\n",
    "    routes = routing.optimize_all_clusters(\n",
    "        population_size=population_size,\n",
    "        generations=generations,\n",
    "        mutation_rate=mutation_rate,\n",
    "        local_search_freq=local_search_freq,\n",
    "        local_search_intensity=local_search_intensity\n",
    "    )\n",
    "\n",
    "    #Compute total distance\n",
    "    total_distance = 0\n",
    "    for cluster_id, route_list in routes.items():\n",
    "        for route in route_list:\n",
    "            if len(route) < 2:\n",
    "                continue\n",
    "            for i in range(len(route) - 1):\n",
    "                total_distance += routing.dist_matrix[route[i]][route[i + 1]]\n",
    "\n",
    "    return total_distance \n",
    "\n",
    "# Run the optimization\n",
    "study = optuna.create_study(direction=\"minimize\")\n",
    "study.optimize(objective, n_trials=2000, show_progress_bar=True, n_jobs=-1)\n",
    "\n",
    "# Print best result\n",
    "print(\"Best hyperparameters:\", study.best_params)\n",
    "print(\"Best total distance:\", study.best_value)"
   ]
  }
 ],
 "metadata": {
  "kernelspec": {
   "display_name": "venv",
   "language": "python",
   "name": "python3"
  },
  "language_info": {
   "codemirror_mode": {
    "name": "ipython",
    "version": 3
   },
   "file_extension": ".py",
   "mimetype": "text/x-python",
   "name": "python",
   "nbconvert_exporter": "python",
   "pygments_lexer": "ipython3",
   "version": "3.13.5"
  }
 },
 "nbformat": 4,
 "nbformat_minor": 5
}
